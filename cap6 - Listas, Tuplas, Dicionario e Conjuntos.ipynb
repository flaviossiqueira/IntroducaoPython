{
 "cells": [
  {
   "cell_type": "markdown",
   "id": "cb7bb7a4-9d40-4852-90db-de68fbdd5b61",
   "metadata": {},
   "source": [
    "# Capitulo 6: Listas, dicionários, tuplas e conjuntos"
   ]
  },
  {
   "cell_type": "code",
   "execution_count": 2,
   "id": "4b533a50-5ece-43ab-b2d9-0db060012862",
   "metadata": {},
   "outputs": [
    {
     "name": "stdin",
     "output_type": "stream",
     "text": [
      "Nota 0:  2\n",
      "Nota 1:  3\n",
      "Nota 2:  4\n",
      "Nota 3:  5\n",
      "Nota 4:  6\n",
      "Nota 5:  7\n",
      "Nota 6:  8\n"
     ]
    },
    {
     "name": "stdout",
     "output_type": "stream",
     "text": [
      "Nota0:   2.00\n",
      "Nota1:   3.00\n",
      "Nota2:   4.00\n",
      "Nota3:   5.00\n",
      "Nota4:   6.00\n",
      "Nota5:   7.00\n",
      "Nota6:   8.00\n",
      "Média:  5.00\n"
     ]
    }
   ],
   "source": [
    "# 6.1\n",
    "\n",
    "notas = [0,0,0,0,0,0,0]\n",
    "soma = 0\n",
    "x = 0\n",
    "\n",
    "while x < len(notas):\n",
    "    notas[x] = float(input(f\"Nota {x}: \"))\n",
    "    soma += notas[x]\n",
    "    x += 1\n",
    "x = 0\n",
    "\n",
    "while x < len(notas):\n",
    "    print(f\"Nota{x}: {notas[x]:6.2f}\")\n",
    "    x += 1\n",
    "\n",
    "print(f\"Média: {soma/x:5.2f}\")"
   ]
  },
  {
   "cell_type": "code",
   "execution_count": 2,
   "id": "479ce626-5e80-4b8f-8dba-d50e361b01d4",
   "metadata": {},
   "outputs": [
    {
     "name": "stdin",
     "output_type": "stream",
     "text": [
      "Numero 1:  2\n",
      "Numero 2:  3\n",
      "Numero 3:  4\n",
      "Numero 4:  7\n",
      "Numero 5:  5\n",
      "Que posição voce quer imprimir (0 para sair):  1\n"
     ]
    },
    {
     "name": "stdout",
     "output_type": "stream",
     "text": [
      "Você escolheu o numero: 2\n"
     ]
    },
    {
     "name": "stdin",
     "output_type": "stream",
     "text": [
      "Que posição voce quer imprimir (0 para sair):  2\n"
     ]
    },
    {
     "name": "stdout",
     "output_type": "stream",
     "text": [
      "Você escolheu o numero: 3\n"
     ]
    },
    {
     "name": "stdin",
     "output_type": "stream",
     "text": [
      "Que posição voce quer imprimir (0 para sair):  4\n"
     ]
    },
    {
     "name": "stdout",
     "output_type": "stream",
     "text": [
      "Você escolheu o numero: 7\n"
     ]
    },
    {
     "name": "stdin",
     "output_type": "stream",
     "text": [
      "Que posição voce quer imprimir (0 para sair):  7\n"
     ]
    },
    {
     "ename": "IndexError",
     "evalue": "list index out of range",
     "output_type": "error",
     "traceback": [
      "\u001b[0;31m---------------------------------------------------------------------------\u001b[0m",
      "\u001b[0;31mIndexError\u001b[0m                                Traceback (most recent call last)",
      "\u001b[0;32m<ipython-input-2-830a93114012>\u001b[0m in \u001b[0;36m<module>\u001b[0;34m\u001b[0m\n\u001b[1;32m     10\u001b[0m     \u001b[0;32mif\u001b[0m \u001b[0mescolhido\u001b[0m \u001b[0;34m==\u001b[0m \u001b[0;36m0\u001b[0m\u001b[0;34m:\u001b[0m\u001b[0;34m\u001b[0m\u001b[0;34m\u001b[0m\u001b[0m\n\u001b[1;32m     11\u001b[0m         \u001b[0;32mbreak\u001b[0m\u001b[0;34m\u001b[0m\u001b[0;34m\u001b[0m\u001b[0m\n\u001b[0;32m---> 12\u001b[0;31m     \u001b[0mprint\u001b[0m\u001b[0;34m(\u001b[0m\u001b[0;34mf\"Você escolheu o numero: {numero[escolhido-1]}\"\u001b[0m\u001b[0;34m)\u001b[0m\u001b[0;34m\u001b[0m\u001b[0;34m\u001b[0m\u001b[0m\n\u001b[0m",
      "\u001b[0;31mIndexError\u001b[0m: list index out of range"
     ]
    }
   ],
   "source": [
    "numero = [0,0,0,0,0]\n",
    "x = 0\n",
    "\n",
    "while x < 5:\n",
    "    numero[x] = int(input(f\"Numero {x+1}: \"))\n",
    "    x += 1\n",
    "\n",
    "while True:\n",
    "    escolhido = int(input(\"Que posição voce quer imprimir (0 para sair): \"))\n",
    "    if escolhido == 0:\n",
    "        break\n",
    "    print(f\"Você escolheu o numero: {numero[escolhido-1]}\")"
   ]
  },
  {
   "cell_type": "code",
   "execution_count": 6,
   "id": "f5c41ded-fbd3-4b03-9bdd-149dea242d00",
   "metadata": {},
   "outputs": [
    {
     "name": "stdin",
     "output_type": "stream",
     "text": [
      "Digite um valor para anexar em A ( 0 para terminar):  1\n",
      "Digite um valor para anexar em A ( 0 para terminar):  2\n",
      "Digite um valor para anexar em A ( 0 para terminar):  3\n",
      "Digite um valor para anexar em A ( 0 para terminar):  0\n",
      "Digite um valor para anexar em B ( 0 para terminar):  1\n",
      "Digite um valor para anexar em B ( 0 para terminar):  2\n",
      "Digite um valor para anexar em B ( 0 para terminar):  3\n",
      "Digite um valor para anexar em B ( 0 para terminar):  0\n"
     ]
    },
    {
     "name": "stdout",
     "output_type": "stream",
     "text": [
      "[[1, 2, 3], [1, 2, 3]]\n"
     ]
    }
   ],
   "source": [
    "A = []\n",
    "B = []\n",
    "C = []\n",
    "\n",
    "while True:\n",
    "    n1 = int(input(\"Digite um valor para anexar em A ( 0 para terminar): \"))\n",
    "    if n1 == 0:\n",
    "        break\n",
    "    A.append(n1)\n",
    "    \n",
    "while True:\n",
    "    n2 = int(input(\"Digite um valor para anexar em B ( 0 para terminar): \"))\n",
    "    if n2 == 0:\n",
    "        break\n",
    "    B.append(n2)\n",
    "\n",
    "C = A + B\n",
    "print(C)"
   ]
  },
  {
   "cell_type": "code",
   "execution_count": 32,
   "id": "8a1728ca-b75e-45e2-91a5-c097f72e2cd9",
   "metadata": {},
   "outputs": [
    {
     "name": "stdin",
     "output_type": "stream",
     "text": [
      "Digite um valor para anexar em A ( 0 para terminar):  1\n",
      "Digite um valor para anexar em A ( 0 para terminar):  2\n",
      "Digite um valor para anexar em A ( 0 para terminar):  3\n",
      "Digite um valor para anexar em A ( 0 para terminar):  0\n"
     ]
    },
    {
     "name": "stdout",
     "output_type": "stream",
     "text": [
      "[1, 2, 3]\n"
     ]
    },
    {
     "name": "stdin",
     "output_type": "stream",
     "text": [
      "Digite um valor para anexar em B ( 0 para terminar):  1\n",
      "Digite um valor para anexar em B ( 0 para terminar):  2\n",
      "Digite um valor para anexar em B ( 0 para terminar):  3\n",
      "Digite um valor para anexar em B ( 0 para terminar):  0\n"
     ]
    },
    {
     "name": "stdout",
     "output_type": "stream",
     "text": [
      "[2, 3, 3]\n"
     ]
    }
   ],
   "source": [
    "# 6.3 REVER\n",
    "A = []\n",
    "B = []\n",
    "C = []\n",
    "\n",
    "\n",
    "\n",
    "while True:\n",
    "    n1 = int(input(\"Digite um valor para anexar em A ( 0 para terminar): \"))\n",
    "    if n1 == 0:\n",
    "        print(A)\n",
    "        break\n",
    "    A.append(n1)\n",
    "    \n",
    "while True:\n",
    "    n2 = int(input(\"Digite um valor para anexar em B ( 0 para terminar): \"))\n",
    "    if n2 == 0:\n",
    "        break\n",
    "    B.append(n2)\n",
    "    \n",
    "n = 0\n",
    "while n < len(A):\n",
    "    cont = 0\n",
    "    while cont < len(B):\n",
    "        if(A[n] == B[cont]):\n",
    "            break\n",
    "        elif(A[n] != B[cont]):\n",
    "            C.append(A[n])\n",
    "        cont += 1\n",
    "    n += 1\n",
    "print(C)"
   ]
  },
  {
   "cell_type": "code",
   "execution_count": 38,
   "id": "854fb467-23bd-4de5-9828-1e4826918c45",
   "metadata": {},
   "outputs": [
    {
     "name": "stdout",
     "output_type": "stream",
     "text": [
      "\n",
      "Existem 0 clientes na fila\n",
      "Fila atual: []\n",
      "Digite F para adicionar um cleinte ao fim da fila,\n",
      "ou A para realizar o atendimento. S para sair.\n"
     ]
    },
    {
     "name": "stdin",
     "output_type": "stream",
     "text": [
      "Operação (F,A ou S): A\n"
     ]
    },
    {
     "ename": "IndexError",
     "evalue": "pop from empty list",
     "output_type": "error",
     "traceback": [
      "\u001b[0;31m---------------------------------------------------------------------------\u001b[0m",
      "\u001b[0;31mIndexError\u001b[0m                                Traceback (most recent call last)",
      "\u001b[0;32m<ipython-input-38-3f543f48049f>\u001b[0m in \u001b[0;36m<module>\u001b[0;34m\u001b[0m\n\u001b[1;32m     12\u001b[0m     \u001b[0;32mif\u001b[0m \u001b[0moperação\u001b[0m \u001b[0;34m==\u001b[0m \u001b[0;34m'A'\u001b[0m\u001b[0;34m:\u001b[0m\u001b[0;34m\u001b[0m\u001b[0;34m\u001b[0m\u001b[0m\n\u001b[1;32m     13\u001b[0m \u001b[0;31m#        if len(fila) > 0:\u001b[0m\u001b[0;34m\u001b[0m\u001b[0;34m\u001b[0m\u001b[0;34m\u001b[0m\u001b[0m\n\u001b[0;32m---> 14\u001b[0;31m         \u001b[0matendido\u001b[0m \u001b[0;34m=\u001b[0m \u001b[0mfila\u001b[0m\u001b[0;34m.\u001b[0m\u001b[0mpop\u001b[0m\u001b[0;34m(\u001b[0m\u001b[0;36m0\u001b[0m\u001b[0;34m)\u001b[0m\u001b[0;34m\u001b[0m\u001b[0;34m\u001b[0m\u001b[0m\n\u001b[0m\u001b[1;32m     15\u001b[0m         \u001b[0mprint\u001b[0m\u001b[0;34m(\u001b[0m\u001b[0;34mf\"Cliente {atendido} atendido\"\u001b[0m\u001b[0;34m)\u001b[0m\u001b[0;34m\u001b[0m\u001b[0;34m\u001b[0m\u001b[0m\n\u001b[1;32m     16\u001b[0m         \u001b[0;31m#else:\u001b[0m\u001b[0;34m\u001b[0m\u001b[0;34m\u001b[0m\u001b[0;34m\u001b[0m\u001b[0m\n",
      "\u001b[0;31mIndexError\u001b[0m: pop from empty list"
     ]
    }
   ],
   "source": [
    "# 6.4 4.5 6.6\n",
    "ultimo = 10\n",
    "\n",
    "fila = list(range(1, ultimo +1))\n",
    "while True:\n",
    "    print(f\"\\nExistem {len(fila)} clientes na fila\")\n",
    "    print(f\"Fila atual: {fila}\")\n",
    "    print(\"Digite F para adicionar um cleinte ao fim da fila,\")\n",
    "    print(\"ou A para realizar o atendimento. S para sair.\")\n",
    "    operação = input(\"Operação (F,A ou S):\")\n",
    "    \n",
    "    if operação == 'A':\n",
    "        if len(fila) > 0:\n",
    "            atendido = fila.pop(0)\n",
    "            print(f\"Cliente {atendido} atendido\")\n",
    "        else:\n",
    "            print(\"Fila vazia: Ninguém para atender.\")\n",
    "    elif operação == 'F':\n",
    "        ultimo += 1\n",
    "        fila.append(ultimo)\n",
    "    elif operação == \"S\":\n",
    "        break\n",
    "    else:\n",
    "        print(\"Operação inválida! Digite apenas F,A ou S!\")"
   ]
  },
  {
   "cell_type": "code",
   "execution_count": 7,
   "id": "6b75a420-c4af-4112-b627-732777330db3",
   "metadata": {},
   "outputs": [
    {
     "name": "stdin",
     "output_type": "stream",
     "text": [
      "Digite o valor a procurar:  9\n"
     ]
    },
    {
     "name": "stdout",
     "output_type": "stream",
     "text": [
      "9 não encontrado\n"
     ]
    }
   ],
   "source": [
    "# 6.8\n",
    "\n",
    "L = [15, 7 ,27, 39]\n",
    "p = int(input(\"Digite o valor a procurar: \"))\n",
    "\n",
    "x = 0\n",
    "y = 0\n",
    "while x < len(L) and y < len():\n",
    "    if L[x] == p:\n",
    "        print(f\"{p} achado em posição {x}\")\n",
    "        break\n",
    "    else:\n",
    "        print(f\"{p} não encontrado\")\n",
    "        break\n",
    "    x += 1"
   ]
  },
  {
   "cell_type": "code",
   "execution_count": null,
   "id": "d3f55a1a-79a8-41c8-91ec-f10a368cb0c2",
   "metadata": {},
   "outputs": [],
   "source": [
    "# 6.11\n",
    "\n",
    "L = []\n",
    "for e in L:\n",
    "    n = int(input(\"Digite um numero (0 sai): \"))\n",
    "    if n == 0:\n",
    "        break\n",
    "    L.append(n)\n",
    "    \n",
    "x = 0\n",
    "\n",
    "for e in L:\n",
    "    print(L[x])\n",
    "    x+=1"
   ]
  },
  {
   "cell_type": "code",
   "execution_count": 17,
   "id": "15b549f5-f190-4daf-bfb8-1c3cf4aee569",
   "metadata": {},
   "outputs": [
    {
     "name": "stdout",
     "output_type": "stream",
     "text": [
      "3 6 9 12 15 18 21 24 27 30 \n"
     ]
    }
   ],
   "source": [
    "for t in range(3,33,3):\n",
    "    print(t, end=\" \")\n",
    "print()"
   ]
  },
  {
   "cell_type": "code",
   "execution_count": 26,
   "id": "f7345435-6da3-4465-9cc6-c4c5a0e05772",
   "metadata": {},
   "outputs": [
    {
     "ename": "TypeError",
     "evalue": "'int' object is not iterable",
     "output_type": "error",
     "traceback": [
      "\u001b[0;31m---------------------------------------------------------------------------\u001b[0m",
      "\u001b[0;31mTypeError\u001b[0m                                 Traceback (most recent call last)",
      "\u001b[0;32m<ipython-input-26-3cb602ce78e5>\u001b[0m in \u001b[0;36m<module>\u001b[0;34m\u001b[0m\n\u001b[1;32m      2\u001b[0m \u001b[0mz\u001b[0m \u001b[0;34m=\u001b[0m \u001b[0;36m0\u001b[0m\u001b[0;34m\u001b[0m\u001b[0;34m\u001b[0m\u001b[0m\n\u001b[1;32m      3\u001b[0m \u001b[0;32mfor\u001b[0m \u001b[0mx\u001b[0m\u001b[0;34m,\u001b[0m \u001b[0me\u001b[0m \u001b[0;32min\u001b[0m \u001b[0menumerate\u001b[0m\u001b[0;34m(\u001b[0m\u001b[0mL\u001b[0m\u001b[0;34m)\u001b[0m\u001b[0;34m:\u001b[0m\u001b[0;34m\u001b[0m\u001b[0;34m\u001b[0m\u001b[0m\n\u001b[0;32m----> 4\u001b[0;31m     \u001b[0mx\u001b[0m\u001b[0;34m,\u001b[0m\u001b[0me\u001b[0m \u001b[0;34m=\u001b[0m \u001b[0mz\u001b[0m\u001b[0;34m\u001b[0m\u001b[0;34m\u001b[0m\u001b[0m\n\u001b[0m\u001b[1;32m      5\u001b[0m     \u001b[0mprint\u001b[0m\u001b[0;34m(\u001b[0m\u001b[0;34mf\"[{x}] {e}\"\u001b[0m\u001b[0;34m)\u001b[0m\u001b[0;34m\u001b[0m\u001b[0;34m\u001b[0m\u001b[0m\n\u001b[1;32m      6\u001b[0m     \u001b[0mprint\u001b[0m\u001b[0;34m(\u001b[0m\u001b[0mz\u001b[0m\u001b[0;34m)\u001b[0m\u001b[0;34m\u001b[0m\u001b[0;34m\u001b[0m\u001b[0m\n",
      "\u001b[0;31mTypeError\u001b[0m: 'int' object is not iterable"
     ]
    }
   ],
   "source": [
    "L = list(range(100,1100,50))\n",
    "z = 0\n",
    "for x, e in enumerate(L):\n",
    "    x,e = z\n",
    "    print(f\"[{x}] {e}\")\n",
    "    print(z)"
   ]
  },
  {
   "cell_type": "code",
   "execution_count": 43,
   "id": "de6c096f-44d8-4731-95a9-4f7a710ff865",
   "metadata": {},
   "outputs": [
    {
     "name": "stdout",
     "output_type": "stream",
     "text": [
      "5\n",
      "-10\n",
      "-2.0\n"
     ]
    }
   ],
   "source": [
    "T = [-10, -8, 0, 1, 2, 5, -2, -4]\n",
    "\n",
    "maximo = T[0]\n",
    "minimo = T[0]\n",
    "montante = 0\n",
    "\n",
    "for e in T:\n",
    "    if e > maximo:\n",
    "        maximo = e\n",
    "    if e < minimo:\n",
    "        minimo = e\n",
    "    montante += e\n",
    "\n",
    "media = montante / len(T)\n",
    "print(maximo)\n",
    "print(minimo)\n",
    "print(media)"
   ]
  },
  {
   "cell_type": "code",
   "execution_count": 47,
   "id": "302866d4-0cf8-4948-b789-b81a989e6232",
   "metadata": {},
   "outputs": [
    {
     "name": "stdin",
     "output_type": "stream",
     "text": [
      "Sala(0 sai):  4\n",
      "Quantos lugares você deseja (3 vagos):  3\n"
     ]
    },
    {
     "name": "stdout",
     "output_type": "stream",
     "text": [
      "3 lugares vendidos\n",
      "Utilização das salas\n",
      "Sala 1 - 10 lugar(es) vazio(s)\n",
      "Sala 2 - 20 lugar(es) vazio(s)\n",
      "Sala 3 - 1 lugar(es) vazio(s)\n",
      "Sala 4 - 0 lugar(es) vazio(s)\n",
      "Sala 5 - 0 lugar(es) vazio(s)\n"
     ]
    },
    {
     "name": "stdin",
     "output_type": "stream",
     "text": [
      "Sala(0 sai):  4\n"
     ]
    },
    {
     "name": "stdout",
     "output_type": "stream",
     "text": [
      "Desculpe, sala lotada!\n"
     ]
    }
   ],
   "source": [
    "lugares_vagos = [10,20,1,3,0]\n",
    "\n",
    "while True:\n",
    "    sala = int(input(\"Sala(0 sai): \"))\n",
    "    if sala == 0:\n",
    "        print(\"Fim\")\n",
    "        break\n",
    "    if sala > len(lugares_vagos) or sala < 1:\n",
    "        print(\"Sala invalida\")\n",
    "    elif lugares_vagos[sala-1] == 0:\n",
    "        print(\"Desculpe, sala lotada!\")\n",
    "        break\n",
    "    else:\n",
    "        lugares = int(input(f\"Quantos lugares você deseja ({lugares_vagos[sala - 1]} vagos): \"))\n",
    "    if lugares > lugares_vagos[sala -1]:\n",
    "        print(\"esse numero de lugares não está disponivel.\")\n",
    "    elif lugares < 0:\n",
    "        print(\"Numero invalido\")\n",
    "    else:\n",
    "        lugares_vagos[sala-1] -= lugares\n",
    "        print(f\"{lugares} lugares vendidos\")\n",
    "    print(\"Utilização das salas\")\n",
    "\n",
    "    for x,l in enumerate(lugares_vagos):\n",
    "        print(f\"Sala {x+1} - {l} lugar(es) vazio(s)\")"
   ]
  },
  {
   "cell_type": "code",
   "execution_count": 54,
   "id": "57da80ef-8a29-42a2-8084-cbc71262fb99",
   "metadata": {},
   "outputs": [
    {
     "name": "stdout",
     "output_type": "stream",
     "text": [
      "5\n",
      "4\n",
      "3\n",
      "2\n",
      "1\n"
     ]
    }
   ],
   "source": [
    "L = [1,2,3,4,5]\n",
    "\n",
    "fim = len(L)\n",
    "\n",
    "while fim > 1:\n",
    "    trocou = False\n",
    "    x = 0\n",
    "    while x < (fim - 1):\n",
    "        if L[x] < L[x+1]:\n",
    "            trocou = True\n",
    "            temp = L[x]\n",
    "            L[x] = L[x+1]\n",
    "            L[x + 1] = temp\n",
    "        x += 1\n",
    "    if not trocou:\n",
    "        break\n",
    "    fim -= 1\n",
    "for e in L:\n",
    "    print(e)"
   ]
  },
  {
   "cell_type": "code",
   "execution_count": 55,
   "id": "51ad0db4-5cc8-440e-ae2c-dace24eae38c",
   "metadata": {},
   "outputs": [
    {
     "name": "stdout",
     "output_type": "stream",
     "text": [
      "[1, 2, 4, 6, 9]\n"
     ]
    }
   ],
   "source": [
    "L = [6,4,2,1,9]\n",
    "L.sort()\n",
    "print(L)\n"
   ]
  },
  {
   "cell_type": "code",
   "execution_count": 56,
   "id": "49f29c0a-9682-4346-87a1-747b3cc0864d",
   "metadata": {},
   "outputs": [
    {
     "data": {
      "text/plain": [
       "[1, 3, 4]"
      ]
     },
     "execution_count": 56,
     "metadata": {},
     "output_type": "execute_result"
    }
   ],
   "source": [
    "Z = [4,3,1]\n",
    "sorted(Z)"
   ]
  },
  {
   "cell_type": "markdown",
   "id": "32d7e325-8ca6-47e5-878d-e8e350f31c16",
   "metadata": {},
   "source": [
    "## Dicionarios"
   ]
  },
  {
   "cell_type": "code",
   "execution_count": 5,
   "id": "7fdb2a75-7930-4ddb-b95f-38f3c5c948cd",
   "metadata": {},
   "outputs": [
    {
     "name": "stdout",
     "output_type": "stream",
     "text": [
      "True\n",
      "dict_keys(['Alface', 'Batata', 'Tomate', 'Feijão'])\n",
      "dict_values([0.45, 1.2, 2.3, 1.5])\n"
     ]
    }
   ],
   "source": [
    "tabela = {\"Alface\": 0.45,\n",
    "          \"Batata\": 1.20,\n",
    "          \"Tomate\": 2.30,\n",
    "          \"Feijão\": 1.50\n",
    "         }\n",
    "print(\"Batata\" in tabela)\n",
    "print(tabela.keys())\n",
    "print(tabela.values())"
   ]
  },
  {
   "cell_type": "code",
   "execution_count": 6,
   "id": "2781c426-5e48-4eb3-91ea-f7a024949970",
   "metadata": {},
   "outputs": [
    {
     "name": "stdout",
     "output_type": "stream",
     "text": [
      "{'Alface': 0.45, 'Batata': 1.2, 'Feijão': 1.5}\n"
     ]
    }
   ],
   "source": [
    "del tabela[\"Tomate\"]\n",
    "print(tabela)"
   ]
  },
  {
   "cell_type": "code",
   "execution_count": 11,
   "id": "2a0d5413-0b6b-4669-b3d2-cc1cb13b826e",
   "metadata": {},
   "outputs": [
    {
     "data": {
      "text/plain": [
       "[0, 0, 'A', 0, 0, 0, 0, 0, 0, 0]"
      ]
     },
     "execution_count": 11,
     "metadata": {},
     "output_type": "execute_result"
    }
   ],
   "source": [
    "L = [0] * 10\n",
    "hash(\"A\")\n",
    "\n",
    "hash(\"A\") % 10\n",
    "\n",
    "L[hash(\"A\") % 10] = \"A\"\n",
    "L"
   ]
  },
  {
   "cell_type": "code",
   "execution_count": 15,
   "id": "ca849bf3-96f2-4aa2-a4da-601c8c91413d",
   "metadata": {},
   "outputs": [
    {
     "name": "stdout",
     "output_type": "stream",
     "text": [
      "Venda:\n",
      "\n",
      "tomate      :   5 x   2.30 =  11.50\n",
      "batata      :  10 x   1.20 =  12.00\n",
      "alface      :   5 x   0.45 =   2.25\n",
      "Custo total:                 25.75\n",
      "\n",
      "Estoque:\n",
      "\n",
      "tomate\n",
      "[995, 2.3]\n",
      "Descrição:  tomate\n",
      "Quantidade:  995\n",
      "Preço:   2.30\n",
      "\n",
      "alface\n",
      "[495, 0.45]\n",
      "Descrição:  alface\n",
      "Quantidade:  495\n",
      "Preço:   0.45\n",
      "\n",
      "batata\n",
      "[1991, 1.2]\n",
      "Descrição:  batata\n",
      "Quantidade:  1991\n",
      "Preço:   1.20\n",
      "\n",
      "feijao\n",
      "[100, 1.5]\n",
      "Descrição:  feijao\n",
      "Quantidade:  100\n",
      "Preço:   1.50\n",
      "\n"
     ]
    }
   ],
   "source": [
    "estoque = {\"tomate\": [1000,2.3],\n",
    "           \"alface\": [500, 0.45],\n",
    "           \"batata\": [2001, 1.2],\n",
    "           \"feijao\": [100, 1.5]\n",
    "}\n",
    "\n",
    "venda_nome = input(\"Nome: \")\n",
    "venda_quant = int(input(\"Quantidade: \"))\n",
    "total = 0\n",
    "\n",
    "print(\"Venda:\\n\")\n",
    "\n",
    "for operação in estoque:\n",
    "    produto, quantidade = operação\n",
    "    preço = estoque[produto][1]\n",
    "    custo = preço * quantidade\n",
    "    print(f\"{produto:12s}: {quantidade:3d} x {preço:6.2f} = {custo:6.2f}\")\n",
    "    estoque[produto][0] -= quantidade\n",
    "    total += custo\n",
    "    \n",
    "print(f\"Custo total: {total:21.2f}\\n\")\n",
    "print(\"Estoque:\\n\")\n",
    "\n",
    "for chave, dados in estoque.items():\n",
    "    print(chave)\n",
    "    print(dados)\n",
    "    print(\"Descrição: \", chave)\n",
    "    print(\"Quantidade: \", dados[0])\n",
    "    print(f\"Preço: {dados[1]:6.2f}\\n\")"
   ]
  },
  {
   "cell_type": "code",
   "execution_count": 8,
   "id": "612f1c01-eb05-47de-9c7a-934968d0f5a9",
   "metadata": {},
   "outputs": [
    {
     "name": "stdin",
     "output_type": "stream",
     "text": [
      "nome:  rato\n"
     ]
    },
    {
     "name": "stdout",
     "output_type": "stream",
     "text": [
      "{'r': 0, 'a': 1, 't': 2, 'o': 3}\n"
     ]
    }
   ],
   "source": [
    "# 6.18\n",
    "\n",
    "\n",
    "nome = input(\"nome: \")\n",
    "cont = 0\n",
    "dic_nome = {}\n",
    "for letra in nome:\n",
    "    dic_nome[letra] = cont\n",
    "    cont += 1\n",
    "\n",
    "print(dic_nome)"
   ]
  },
  {
   "cell_type": "code",
   "execution_count": 1,
   "id": "e134dd2e-ee09-4586-b339-72f112ce9ad4",
   "metadata": {},
   "outputs": [
    {
     "name": "stdout",
     "output_type": "stream",
     "text": [
      "{'a': 5, 'b': 2, 'r': 2, 'c': 1, 'd': 1}\n"
     ]
    }
   ],
   "source": [
    "d = {}\n",
    "\n",
    "for letra in \"abracadabra\":\n",
    "    if letra in d:\n",
    "        d[letra] = d[letra] + 1\n",
    "    else:\n",
    "        d[letra] = 1\n",
    "\n",
    "print(d)"
   ]
  },
  {
   "cell_type": "code",
   "execution_count": 9,
   "id": "d11a8214-cde0-4dff-b457-a767954849b7",
   "metadata": {},
   "outputs": [
    {
     "name": "stdout",
     "output_type": "stream",
     "text": [
      "{'a': 5, 'b': 2, 'r': 2, 'c': 1, 'd': 1}\n"
     ]
    }
   ],
   "source": [
    "d = {}\n",
    "\n",
    "for letra in \"abracadabra\":\n",
    "    d[letra] = d.get(letra,0) + 1\n",
    "print(d)"
   ]
  },
  {
   "cell_type": "markdown",
   "id": "b14da2f7-269e-4f97-989e-3ce64e44e1a2",
   "metadata": {},
   "source": [
    "## Tuplas"
   ]
  },
  {
   "cell_type": "code",
   "execution_count": 10,
   "id": "dd61e9ac-a041-4c23-a7c6-e131d6d3a5a9",
   "metadata": {},
   "outputs": [
    {
     "data": {
      "text/plain": [
       "('a', 'b', 'c')"
      ]
     },
     "execution_count": 10,
     "metadata": {},
     "output_type": "execute_result"
    }
   ],
   "source": [
    "tupla = ('a','b','c')\n",
    "\n",
    "tupla"
   ]
  },
  {
   "cell_type": "code",
   "execution_count": 12,
   "id": "2b58af3c-3eb2-49bb-a78f-a9dd51f41b20",
   "metadata": {},
   "outputs": [
    {
     "ename": "TypeError",
     "evalue": "'tuple' object does not support item assignment",
     "output_type": "error",
     "traceback": [
      "\u001b[0;31m---------------------------------------------------------------------------\u001b[0m",
      "\u001b[0;31mTypeError\u001b[0m                                 Traceback (most recent call last)",
      "\u001b[0;32m<ipython-input-12-444007822aa3>\u001b[0m in \u001b[0;36m<module>\u001b[0;34m\u001b[0m\n\u001b[0;32m----> 1\u001b[0;31m \u001b[0mtupla\u001b[0m\u001b[0;34m[\u001b[0m\u001b[0;36m0\u001b[0m\u001b[0;34m]\u001b[0m \u001b[0;34m=\u001b[0m \u001b[0;34m'A'\u001b[0m\u001b[0;34m\u001b[0m\u001b[0;34m\u001b[0m\u001b[0m\n\u001b[0m",
      "\u001b[0;31mTypeError\u001b[0m: 'tuple' object does not support item assignment"
     ]
    }
   ],
   "source": [
    "tupla[0] = 'A'"
   ]
  },
  {
   "cell_type": "code",
   "execution_count": 13,
   "id": "c442fbc7-6c52-4c13-8bc6-fb6891928712",
   "metadata": {},
   "outputs": [
    {
     "data": {
      "text/plain": [
       "(100, 200, 300)"
      ]
     },
     "execution_count": 13,
     "metadata": {},
     "output_type": "execute_result"
    }
   ],
   "source": [
    "# empacotamento\n",
    "tupla = 100,200,300\n",
    "tupla"
   ]
  },
  {
   "cell_type": "code",
   "execution_count": 16,
   "id": "5020b65c-268e-4331-986e-76c14ee0a76a",
   "metadata": {},
   "outputs": [
    {
     "name": "stdout",
     "output_type": "stream",
     "text": [
      "10\n",
      "20\n"
     ]
    }
   ],
   "source": [
    "# desempacotamento\n",
    "a,b = 10,20\n",
    "print(a)\n",
    "print(b)"
   ]
  },
  {
   "cell_type": "code",
   "execution_count": 17,
   "id": "fb0af809-e5db-4fb2-a5c1-eeb08632fcd7",
   "metadata": {},
   "outputs": [
    {
     "data": {
      "text/plain": [
       "(1, 2, 3)"
      ]
     },
     "execution_count": 17,
     "metadata": {},
     "output_type": "execute_result"
    }
   ],
   "source": [
    "L = [1,2,3]\n",
    "T = tuple(L)\n",
    "\n",
    "T"
   ]
  },
  {
   "cell_type": "code",
   "execution_count": 18,
   "id": "69299235-98e7-45c7-bc8e-08a442ec179d",
   "metadata": {},
   "outputs": [
    {
     "data": {
      "text/plain": [
       "(1, 2, 3, 4, 5, 6)"
      ]
     },
     "execution_count": 18,
     "metadata": {},
     "output_type": "execute_result"
    }
   ],
   "source": [
    "t1 = (1,2,3)\n",
    "t2 = (4,5,6)\n",
    "\n",
    "t1+t2"
   ]
  },
  {
   "cell_type": "markdown",
   "id": "5e52a0e1-d69f-4db9-bf03-edda238f0ebf",
   "metadata": {},
   "source": [
    "## Conjuntos"
   ]
  },
  {
   "cell_type": "code",
   "execution_count": 28,
   "id": "375d827a-9e61-4425-a092-706f6448c716",
   "metadata": {},
   "outputs": [
    {
     "name": "stdout",
     "output_type": "stream",
     "text": [
      "Valores comuns: {2, 3}\n",
      "Apenas em 1: {1, 6}\n",
      "Apenas em 2: {8, 4, 5}\n",
      "{1, 4, 5, 6, 8}\n"
     ]
    }
   ],
   "source": [
    "# 6.19\n",
    "\n",
    "conj_1 = set([1,2,2,6,3])\n",
    "conj_2 = set([3,4,2,8,5])\n",
    "\n",
    "temp1 = conj_1 - conj_2\n",
    "temp2 = conj_2 - conj_1\n",
    "C = temp1 | temp2\n",
    "\n",
    "print(f\"Valores comuns: {conj_1 & conj_2}\")\n",
    "print(f\"Apenas em 1: {conj_1 - conj_2}\")\n",
    "print(f\"Apenas em 2: {conj_2 - conj_1}\")\n",
    "print(C)\n"
   ]
  },
  {
   "cell_type": "code",
   "execution_count": null,
   "id": "89d60cff-7815-4dc7-ac5d-3715788721ca",
   "metadata": {},
   "outputs": [],
   "source": [
    "# 6.20\n",
    "\n"
   ]
  },
  {
   "cell_type": "code",
   "execution_count": null,
   "id": "a553d9b0-de05-46d5-a20b-afc7187eba79",
   "metadata": {},
   "outputs": [],
   "source": []
  }
 ],
 "metadata": {
  "kernelspec": {
   "display_name": "Python 3",
   "language": "python",
   "name": "python3"
  },
  "language_info": {
   "codemirror_mode": {
    "name": "ipython",
    "version": 3
   },
   "file_extension": ".py",
   "mimetype": "text/x-python",
   "name": "python",
   "nbconvert_exporter": "python",
   "pygments_lexer": "ipython3",
   "version": "3.6.13"
  },
  "toc-autonumbering": true,
  "toc-showmarkdowntxt": false
 },
 "nbformat": 4,
 "nbformat_minor": 5
}
