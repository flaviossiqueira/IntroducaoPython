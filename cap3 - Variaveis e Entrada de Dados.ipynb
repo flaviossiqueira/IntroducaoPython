{
 "cells": [
  {
   "cell_type": "markdown",
   "id": "a760f3a5-a725-4a3e-9fd8-39e738e018ae",
   "metadata": {},
   "source": [
    "# Introdução à Programação com Python\n",
    "## Algoritmos e lógica de programação para iniciantes\n",
    "\n",
    "\n",
    "### Capitulo 3: Variaveis e Entrada de Dados"
   ]
  },
  {
   "cell_type": "markdown",
   "id": "9106c6f1-6071-423d-b6b8-4714b93bcbfd",
   "metadata": {},
   "source": [
    "##### Variaveis numericas\n",
    "- Variaveis de numero inteiro são aquelas sem parte decimal: 1, 2, 15, 3000;\n",
    "- Variaveis de numero flutuantes ou decimais são aqueles com parte decimal: 1.0, 5.478, 10.87;\n"
   ]
  },
  {
   "cell_type": "markdown",
   "id": "74175008-354a-4413-a3a2-c60d6d2471f3",
   "metadata": {},
   "source": [
    "##### Operadores relacionais\n",
    "- == Igualdade\n",
    "- \\>  Maior que\n",
    "- \\<  Menor que\n",
    "- != Diferente\n",
    "- \\>= Maior ou igual\n",
    "- \\<= Menor ou igual"
   ]
  },
  {
   "cell_type": "markdown",
   "id": "c067a5de-53d4-4ef2-a486-a886308273ed",
   "metadata": {},
   "source": [
    "##### Operadores Lógicos\n",
    "- not : não\n",
    "- and : e\n",
    "- or  : ou"
   ]
  },
  {
   "cell_type": "code",
   "execution_count": 1,
   "id": "c7140001-0751-4804-a39f-4f1c34314376",
   "metadata": {},
   "outputs": [
    {
     "data": {
      "text/plain": [
       "True"
      ]
     },
     "execution_count": 1,
     "metadata": {},
     "output_type": "execute_result"
    }
   ],
   "source": [
    "# Exercicio 3.4\n",
    "\n",
    "salario = 3000\n",
    "imposto = salario > 1200\n",
    "imposto"
   ]
  },
  {
   "cell_type": "code",
   "execution_count": 2,
   "id": "fc124447-b34a-4571-89f0-3b19ece05644",
   "metadata": {},
   "outputs": [
    {
     "data": {
      "text/plain": [
       "True"
      ]
     },
     "execution_count": 2,
     "metadata": {},
     "output_type": "execute_result"
    }
   ],
   "source": [
    "# Exercicio 3.6\n",
    "\n",
    "materia1 = 10\n",
    "materia2 = 9\n",
    "materia3 = 8\n",
    "\n",
    "aprovado = materia1 > 7 and materia2 > 7  and materia3 > 7\n",
    "aprovado\n"
   ]
  },
  {
   "cell_type": "markdown",
   "id": "e6440d6d-0d04-428f-b595-eab3272e98a7",
   "metadata": {},
   "source": [
    "### Operação com Strings\n",
    "#### Concatenação\n",
    "\n",
    "Conteudo de duas Strings podem ser somados\n",
    "Ex: \"A\" + \"C\" = \"AC\"\n",
    "\n",
    "#### Composição\n",
    "\n",
    "Junção de varias string junto a variaveis\n",
    "Ex: \"A\" + %d + \"C\" = \"A20C\"\n",
    "\n",
    "- Marcador: %d Tipo: Numeros inteiros\n",
    "- Marcador: %s Tipo: Strings\n",
    "- Marcador: %f Tipo: Numeros decimais\n",
    "\n",
    "#### Fatiamento de String\n",
    "\\[0:2] intervalo fechado em 0 e aberto em 2\n",
    "\n",
    "Pode-se omitir o numero da esquerda ou da direita para representar do inicio ou até o final\n",
    "Ex: [:2] ou [1:]\n",
    "\n",
    "Pode-se utilizar valores negativos para inficar posições a partir da direita\n"
   ]
  },
  {
   "cell_type": "markdown",
   "id": "8fd42f04-f67f-444d-a9bc-99c4be554c85",
   "metadata": {},
   "source": [
    "#### Entrada de dados"
   ]
  },
  {
   "cell_type": "code",
   "execution_count": 1,
   "id": "798721e1-3331-4ea8-96e7-e916ac24b38a",
   "metadata": {},
   "outputs": [
    {
     "name": "stdin",
     "output_type": "stream",
     "text": [
      "Digite um número:  2\n"
     ]
    },
    {
     "name": "stdout",
     "output_type": "stream",
     "text": [
      "2\n"
     ]
    }
   ],
   "source": [
    "# exemplo\n",
    "\n",
    "x = input(\"Digite um número: \")\n",
    "print(x)"
   ]
  },
  {
   "cell_type": "markdown",
   "id": "c9de4570-e067-4c92-a8d0-47462be0f5ff",
   "metadata": {},
   "source": [
    "#### Conversão da entrada de dados  "
   ]
  },
  {
   "cell_type": "code",
   "execution_count": 2,
   "id": "33625da6-faea-45df-8519-bcd455dba0c2",
   "metadata": {},
   "outputs": [
    {
     "name": "stdin",
     "output_type": "stream",
     "text": [
      "Anos de serviço:  10\n",
      "Valor por ano:  300\n"
     ]
    },
    {
     "name": "stdout",
     "output_type": "stream",
     "text": [
      "Bônus de R$3000.00\n"
     ]
    }
   ],
   "source": [
    "# Exemplo Conversão\n",
    "anos = int(input(\"Anos de serviço: \"))\n",
    "valor_por_ano = float(input(\"Valor por ano: \"))\n",
    "bonus = anos * valor_por_ano\n",
    "print(f\"Bônus de R${bonus:5.2f}\")"
   ]
  },
  {
   "cell_type": "markdown",
   "id": "50e6f132-13e9-41a3-9895-083e39b22c12",
   "metadata": {},
   "source": [
    "#### Exercicio 3.7 à 3.15"
   ]
  },
  {
   "cell_type": "code",
   "execution_count": 4,
   "id": "fa851c21-b5f1-4798-b78a-f102e3b2b070",
   "metadata": {},
   "outputs": [
    {
     "name": "stdin",
     "output_type": "stream",
     "text": [
      "Digite o numero 1:  2\n",
      "Digite o numero 2:  2\n"
     ]
    },
    {
     "name": "stdout",
     "output_type": "stream",
     "text": [
      "A soma dos numeros é: 4\n"
     ]
    }
   ],
   "source": [
    "# Exercicio 3.7\n",
    "\n",
    "num1 = int(input(\"Digite o numero 1: \"))\n",
    "num2 = int(input(\"Digite o numero 2: \"))\n",
    "soma = num1 + num2\n",
    "print(f\"A soma dos numeros é: {soma}\")\n"
   ]
  },
  {
   "cell_type": "code",
   "execution_count": 16,
   "id": "c9d562d9-a9bf-4de2-87d3-8438f33c11a7",
   "metadata": {},
   "outputs": [
    {
     "name": "stdin",
     "output_type": "stream",
     "text": [
      "Valor em metros:  98.5\n"
     ]
    },
    {
     "name": "stdout",
     "output_type": "stream",
     "text": [
      "Valor em milimetros: 0.0985\n"
     ]
    }
   ],
   "source": [
    "# Exercicio 3.8\n",
    "\n",
    "respMetros = float(input(\"Valor em metros: \"))\n",
    "\n",
    "valorMin = respMetros / 1000\n",
    "\n",
    "print(f\"Valor em milimetros: {valorMin}\")\n"
   ]
  },
  {
   "cell_type": "code",
   "execution_count": 18,
   "id": "58c80498-0dc1-4604-a66f-f94f159b753d",
   "metadata": {},
   "outputs": [
    {
     "name": "stdin",
     "output_type": "stream",
     "text": [
      "Quantidade de dias:  10\n",
      "Quantidade de horas:  12\n",
      "Quantidade de minutos:  3\n"
     ]
    },
    {
     "name": "stdout",
     "output_type": "stream",
     "text": [
      "O tempo em segundos é: 907380\n"
     ]
    }
   ],
   "source": [
    "# Exercicio 3.9\n",
    "\n",
    "quantDias = int(input(\"Quantidade de dias: \"))\n",
    "quantHoras = int(input(\"Quantidade de horas: \"))\n",
    "quantMinutos = int(input(\"Quantidade de minutos: \"))\n",
    "\n",
    "convDias = quantDias * 86400\n",
    "convHoras = quantHoras * 3600\n",
    "convMinutos = quantMinutos * 60\n",
    "\n",
    "converSegundo = convDias + convHoras + convMinutos\n",
    "\n",
    "print(f\"O tempo em segundos é: {converSegundo}\")"
   ]
  },
  {
   "cell_type": "code",
   "execution_count": 22,
   "id": "313efda5-826b-41b0-809e-72bbc5ed4235",
   "metadata": {},
   "outputs": [
    {
     "name": "stdin",
     "output_type": "stream",
     "text": [
      " valor do salario:  500\n",
      " valor do aumento(%):  25\n"
     ]
    },
    {
     "name": "stdout",
     "output_type": "stream",
     "text": [
      "O valor do novo salario é R$625.00\n"
     ]
    }
   ],
   "source": [
    "# Exercicio 3.10\n",
    "\n",
    "salario = float(input(\" valor do salario: \"))\n",
    "aumento = float(input(\" valor do aumento(%): \"))\n",
    "\n",
    "salarioNovo = salario + (salario * aumento/100)\n",
    "\n",
    "print(f\"O valor do novo salario é R${salarioNovo:5.2f}\")"
   ]
  },
  {
   "cell_type": "code",
   "execution_count": 25,
   "id": "a34d1979-e3db-4afc-809a-64b61ce3e89c",
   "metadata": {},
   "outputs": [
    {
     "name": "stdin",
     "output_type": "stream",
     "text": [
      "Valor da mercadoria:  20\n",
      "Valor do desconto:  10\n"
     ]
    },
    {
     "name": "stdout",
     "output_type": "stream",
     "text": [
      "Novo preço da mercadoria: R$18.00\n"
     ]
    }
   ],
   "source": [
    "# Exercicio 3.11\n",
    "\n",
    "precoMercadoria = float(input(\"Valor da mercadoria: \"))\n",
    "valorDesconto = float(input(\"Valor do desconto: \"))\n",
    "\n",
    "precoNovo = precoMercadoria - (precoMercadoria * valorDesconto/100)\n",
    "\n",
    "print(f\"Novo preço da mercadoria: R${precoNovo:5.2f}\")\n"
   ]
  },
  {
   "cell_type": "code",
   "execution_count": 28,
   "id": "04c55358-7346-4946-91b7-3c684ae2bffa",
   "metadata": {},
   "outputs": [
    {
     "name": "stdin",
     "output_type": "stream",
     "text": [
      "Distancia percorrida pelo carro:  5\n",
      "Velocidade do carro:  30\n"
     ]
    },
    {
     "name": "stdout",
     "output_type": "stream",
     "text": [
      "Tempo de chegada igual a  0.17\n"
     ]
    }
   ],
   "source": [
    "# Exercicio 3.12[\n",
    "\n",
    "distancia = float(input(\"Distancia percorrida pelo carro: \"))\n",
    "velocidade = float(input(\"Velocidade do carro: \"))\n",
    "\n",
    "tempo = distancia / velocidade\n",
    "\n",
    "print(f\"Tempo de chegada igual a {tempo:5.2f}\")"
   ]
  },
  {
   "cell_type": "code",
   "execution_count": 29,
   "id": "2fdb7021-8b91-4fd2-a4f4-e55f9d20eaf6",
   "metadata": {},
   "outputs": [
    {
     "name": "stdin",
     "output_type": "stream",
     "text": [
      "Temperatura em Celsius:  25\n"
     ]
    },
    {
     "name": "stdout",
     "output_type": "stream",
     "text": [
      "Valor em Grau Fahrenheit é 77.0°\n"
     ]
    }
   ],
   "source": [
    "# Exercicio 3.13\n",
    "\n",
    "tempCelcius = int(input(\"Temperatura em Celsius: \"))\n",
    "tempF = ((9 * tempCelcius)/5) + 32\n",
    "\n",
    "print(f\"Valor em Grau Fahrenheit é {tempF}°\")"
   ]
  },
  {
   "cell_type": "code",
   "execution_count": 31,
   "id": "5cb82d7f-eeaf-4a88-9fdc-bf1dd1d8c561",
   "metadata": {},
   "outputs": [
    {
     "name": "stdin",
     "output_type": "stream",
     "text": [
      "Quantidade em dias com o carro alugado:  6\n",
      "Quantidade em quilometros com o carro alugado:  200\n"
     ]
    },
    {
     "name": "stdout",
     "output_type": "stream",
     "text": [
      "Valor para pagar é R$390.00\n"
     ]
    }
   ],
   "source": [
    "#Exercicio 3.14\n",
    "\n",
    "quantDias = int(input(\"Quantidade em dias com o carro alugado: \"))\n",
    "quantQuilometros = int(input(\"Quantidade em quilometros com o carro alugado: \"))\n",
    "\n",
    "valorDias = quantDias * 60\n",
    "valorQui = quantQuilometros * 0.15\n",
    "\n",
    "somaValores = valorDias + valorQui\n",
    "\n",
    "print(f\"Valor para pagar é R${somaValores:5.2f}\")"
   ]
  },
  {
   "cell_type": "code",
   "execution_count": 35,
   "id": "6bb0f752-08d7-4bc3-8f52-2b5c6f1e03bd",
   "metadata": {},
   "outputs": [
    {
     "name": "stdin",
     "output_type": "stream",
     "text": [
      "Quantidade de anos em que fuma cigarro:  20\n",
      "Quantidade de cigarros fumado por dia:  2\n"
     ]
    },
    {
     "name": "stdout",
     "output_type": "stream",
     "text": [
      "Quantidade em dias perdidos fumando cigarro é de 7300.013888888889 dias\n"
     ]
    }
   ],
   "source": [
    "# Exercicio 3.15\n",
    "\n",
    "cigarroAnos = int(input(\"Quantidade de anos em que fuma cigarro: \"))\n",
    "cigarroQuant = int(input(\"Quantidade de cigarros fumado por dia: \"))\n",
    "\n",
    "convAnos = cigarroAnos * 365\n",
    "convCigarros = cigarroQuant * (10/1440)\n",
    "\n",
    "quantDias = convAnos + convCigarros\n",
    "\n",
    "print(f\"Quantidade em dias perdidos fumando cigarro é de {quantDias} dias\")"
   ]
  }
 ],
 "metadata": {
  "kernelspec": {
   "display_name": "Python 3",
   "language": "python",
   "name": "python3"
  },
  "language_info": {
   "codemirror_mode": {
    "name": "ipython",
    "version": 3
   },
   "file_extension": ".py",
   "mimetype": "text/x-python",
   "name": "python",
   "nbconvert_exporter": "python",
   "pygments_lexer": "ipython3",
   "version": "3.8.8"
  }
 },
 "nbformat": 4,
 "nbformat_minor": 5
}
