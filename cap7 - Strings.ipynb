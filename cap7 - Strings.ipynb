{
 "cells": [
  {
   "cell_type": "markdown",
   "id": "e6186830-61ea-4a34-9ef6-ebdf7d1932d0",
   "metadata": {},
   "source": [
    "#  Strings"
   ]
  },
  {
   "cell_type": "code",
   "execution_count": 1,
   "id": "f5160595-ada7-488c-84a8-00c552bc9258",
   "metadata": {},
   "outputs": [
    {
     "name": "stdout",
     "output_type": "stream",
     "text": [
      "BE encontrado na posição 3 de AABBEFAATT\n"
     ]
    }
   ],
   "source": [
    "# 7.1\n",
    "\n",
    "string1 = \"AABBEFAATT\"\n",
    "string2 = \"BE\"\n",
    "\n",
    "loc = string1.find(string2)\n",
    "\n",
    "print(f\"{string2} encontrado na posição {loc} de {string1}\")"
   ]
  },
  {
   "cell_type": "code",
   "execution_count": 14,
   "id": "4d1f2619-869c-4d83-862e-f7434ce839ea",
   "metadata": {},
   "outputs": [
    {
     "name": "stdout",
     "output_type": "stream",
     "text": [
      "AAAB\n"
     ]
    }
   ],
   "source": [
    "# 7.2\n",
    "\n",
    "string1 = \"AAACTBF\"\n",
    "string2 = \"AAABG\"\n",
    "string3 = \"\"\n",
    "cont = 0\n",
    "while cont < len(string2):\n",
    "    if string2[cont] in string1:\n",
    "        string3 += string2[cont]\n",
    "    cont +=1\n",
    "print(string3)"
   ]
  },
  {
   "cell_type": "code",
   "execution_count": 26,
   "id": "96045015-5825-4f7a-9a24-84b98c8d4c0c",
   "metadata": {},
   "outputs": [
    {
     "name": "stdout",
     "output_type": "stream",
     "text": [
      "B\n"
     ]
    }
   ],
   "source": [
    "# 7.3\n",
    "\n",
    "string1 = \"CTA\"\n",
    "string2 = \"ABC\"\n",
    "string3 = \"\"\n",
    "\n",
    "count = 0\n",
    "for letra in string2:\n",
    "    if letra not in string1:\n",
    "        string3 += letra\n",
    "print(string3)"
   ]
  },
  {
   "cell_type": "code",
   "execution_count": 35,
   "id": "99ad9901-a4e6-42d8-bebd-4f2bf1802fbf",
   "metadata": {},
   "outputs": [
    {
     "name": "stdout",
     "output_type": "stream",
     "text": [
      "2\n",
      "2\n",
      "1\n"
     ]
    }
   ],
   "source": [
    "# 7.4\n",
    "\n",
    "string = \"TTAAC\"\n",
    "\n",
    "print(string.count(\"T\"))\n",
    "print(string.count(\"A\"))\n",
    "print(string.count(\"C\"))\n"
   ]
  },
  {
   "cell_type": "code",
   "execution_count": 38,
   "id": "5b3e749d-eb89-4db1-8490-53665687978a",
   "metadata": {},
   "outputs": [
    {
     "name": "stdout",
     "output_type": "stream",
     "text": [
      "A\n",
      "A\n",
      "T\n",
      "T\n",
      "G\n",
      "G\n",
      "A\n",
      "A\n",
      "TT\n"
     ]
    }
   ],
   "source": [
    "# 7.5\n",
    "\n",
    "string1 = \"AATTGGAA\"\n",
    "string2 = \"TG\"\n",
    "string3 = \"\"\n",
    "\n",
    "for letra in string1:\n",
    "    print(letra)\n",
    "    if string2.find(letra):\n",
    "        \n",
    "    else:\n",
    "        string3 += letra\n",
    "\n",
    "print(string3)"
   ]
  },
  {
   "cell_type": "code",
   "execution_count": null,
   "id": "878bbec1-c125-4f93-9b14-03587d28af1e",
   "metadata": {},
   "outputs": [],
   "source": [
    "# 7.6"
   ]
  },
  {
   "cell_type": "code",
   "execution_count": 5,
   "id": "11b99b03-77c6-4543-812f-804fc37bbfde",
   "metadata": {},
   "outputs": [
    {
     "name": "stdin",
     "output_type": "stream",
     "text": [
      "Digite a palavra secreta: oi\n"
     ]
    },
    {
     "name": "stdout",
     "output_type": "stream",
     "text": [
      "\n",
      "\n",
      "\n",
      "\n",
      "\n",
      "\n",
      "\n",
      "\n",
      "\n",
      "\n",
      "\n",
      "\n",
      "\n",
      "\n",
      "\n",
      "\n",
      "\n",
      "\n",
      "\n",
      "\n",
      "\n",
      "\n",
      "\n",
      "\n",
      "\n",
      "\n",
      "\n",
      "\n",
      "\n",
      "\n",
      "\n",
      "\n",
      "\n",
      "\n",
      "\n",
      "\n",
      "\n",
      "\n",
      "\n",
      "\n",
      "\n",
      "\n",
      "\n",
      "\n",
      "\n",
      "\n",
      "\n",
      "\n",
      "\n",
      "\n",
      "\n",
      "\n",
      "\n",
      "\n",
      "\n",
      "\n",
      "\n",
      "\n",
      "\n",
      "\n",
      "\n",
      "\n",
      "\n",
      "\n",
      "\n",
      "\n",
      "\n",
      "\n",
      "\n",
      "\n",
      "\n",
      "\n",
      "\n",
      "\n",
      "\n",
      "\n",
      "\n",
      "\n",
      "\n",
      "\n",
      "\n",
      "\n",
      "\n",
      "\n",
      "\n",
      "\n",
      "\n",
      "\n",
      "\n",
      "\n",
      "\n",
      "\n",
      "\n",
      "\n",
      "\n",
      "\n",
      "\n",
      "\n",
      "\n",
      "\n",
      "..\n"
     ]
    },
    {
     "name": "stdin",
     "output_type": "stream",
     "text": [
      "\n",
      "Digite uma letra: a\n"
     ]
    },
    {
     "name": "stdout",
     "output_type": "stream",
     "text": [
      "Você errou!\n",
      "X==:==\n",
      "X  :  \n",
      "X  O  \n",
      "X\n",
      "X\n",
      "X\n",
      "===========\n",
      "..\n"
     ]
    },
    {
     "name": "stdin",
     "output_type": "stream",
     "text": [
      "\n",
      "Digite uma letra: b\n"
     ]
    },
    {
     "name": "stdout",
     "output_type": "stream",
     "text": [
      "Você errou!\n",
      "X==:==\n",
      "X  :  \n",
      "X  O  \n",
      "X  |  \n",
      "X\n",
      "X\n",
      "===========\n",
      "..\n"
     ]
    },
    {
     "name": "stdin",
     "output_type": "stream",
     "text": [
      "\n",
      "Digite uma letra: c\n"
     ]
    },
    {
     "name": "stdout",
     "output_type": "stream",
     "text": [
      "Você errou!\n",
      "X==:==\n",
      "X  :  \n",
      "X  O  \n",
      "X \\| \n",
      "X\n",
      "X\n",
      "===========\n",
      "..\n"
     ]
    },
    {
     "name": "stdin",
     "output_type": "stream",
     "text": [
      "\n",
      "Digite uma letra: d\n"
     ]
    },
    {
     "name": "stdout",
     "output_type": "stream",
     "text": [
      "Você errou!\n",
      "X==:==\n",
      "X  :  \n",
      "X  O  \n",
      "X \\|/ \n",
      "X\n",
      "X\n",
      "===========\n",
      "..\n"
     ]
    },
    {
     "name": "stdin",
     "output_type": "stream",
     "text": [
      "\n",
      "Digite uma letra: e\n"
     ]
    },
    {
     "name": "stdout",
     "output_type": "stream",
     "text": [
      "Você errou!\n",
      "X==:==\n",
      "X  :  \n",
      "X  O  \n",
      "X \\|/ \n",
      "X /   \n",
      "X\n",
      "===========\n",
      "..\n"
     ]
    },
    {
     "name": "stdin",
     "output_type": "stream",
     "text": [
      "\n",
      "Digite uma letra: f\n"
     ]
    },
    {
     "name": "stdout",
     "output_type": "stream",
     "text": [
      "Você errou!\n",
      "X==:==\n",
      "X  :  \n",
      "X  O  \n",
      "X \\|/ \n",
      "X / \\ \n",
      "X\n",
      "===========\n",
      "Enforcado!\n",
      "A palavra secreta era: oi\n"
     ]
    }
   ],
   "source": [
    "# 7.7\n",
    "\n",
    "palavra = input(\"Digite a palavra secreta:\").lower().strip()\n",
    "\n",
    "for x in range(100):\n",
    "    print()\n",
    "\n",
    "digitadas = []\n",
    "acertos = []\n",
    "erros = 0\n",
    "\n",
    "while True:\n",
    "    senha = \"\"\n",
    "    for letra in palavra:\n",
    "        senha += letra if letra in acertos else \".\"\n",
    "    print(senha)\n",
    "    \n",
    "    if senha == palavra:\n",
    "        print(\"Você acertou!\")\n",
    "        break\n",
    "    tentativa = input(\"\\nDigite uma letra:\").lower().strip()\n",
    "    \n",
    "    if tentativa in digitadas:\n",
    "        print(\"Você já tentou esta letra!\")\n",
    "        continue\n",
    "    else:\n",
    "        digitadas += tentativa\n",
    "        if tentativa in palavra:\n",
    "            acertos += tentativa\n",
    "        else:\n",
    "            erros += 1\n",
    "            print(\"Você errou!\")\n",
    "    print(\"X==:==\\nX  :  \")\n",
    "    print(\"X  O  \" if erros >= 1 else \"X\")\n",
    "    linha2 = \"\"\n",
    "    if erros == 2:\n",
    "        linha2 = \"  |  \"\n",
    "    elif erros == 3:\n",
    "        linha2 = \" \\| \"\n",
    "    elif erros >= 4:\n",
    "        linha2 = \" \\|/ \"\n",
    "    \n",
    "    print(f\"X{linha2}\")\n",
    "    linha3 = \"\"\n",
    "    if erros == 5:\n",
    "        linha3 += \" /   \"\n",
    "    elif erros >= 6:\n",
    "        linha3 += \" / \\ \"\n",
    "    print(f\"X{linha3}\")\n",
    "    print(\"X\\n===========\")\n",
    "    if erros == 6:\n",
    "        print(\"Enforcado!\")\n",
    "        print(f\"A palavra secreta era: {palavra}\")\n",
    "        break"
   ]
  },
  {
   "cell_type": "code",
   "execution_count": null,
   "id": "8fe62f98-5ea5-4221-b2e5-54af5498d34b",
   "metadata": {},
   "outputs": [],
   "source": [
    "# 7.8\n",
    "\n",
    "palavra = input(\"Digite a palavra secreta:\").lower().strip()\n",
    "\n",
    "for x in range(100):\n",
    "    print()\n",
    "\n",
    "digitadas = []\n",
    "acertos = []\n",
    "erros = 0\n",
    "\n",
    "while True:\n",
    "    senha = \"\"\n",
    "    for letra in palavra:\n",
    "        senha += letra if letra in acertos else \".\"\n",
    "    print(senha)\n",
    "    \n",
    "    if senha == palavra:\n",
    "        print(\"Você acertou!\")\n",
    "        break\n",
    "    tentativa = input(\"\\nDigite uma letra:\").lower().strip()\n",
    "    \n",
    "    if tentativa in digitadas:\n",
    "        print(\"Você já tentou esta letra!\")\n",
    "        continue\n",
    "    else:\n",
    "        digitadas += tentativa\n",
    "        if tentativa in palavra:\n",
    "            acertos += tentativa\n",
    "        else:\n",
    "            erros += 1\n",
    "            print(\"Você errou!\")\n",
    "    forca = [[\"X==:==\\nX  :  \"],[\"X  O  \"],[\"X\"],[\"  |  \"],[\" \\| \"],[\" \\|/ \"],[\" /   \"],[\" / \\ \"]]\n",
    "    print(forca[0])\n",
    "    print(forca[1] if erros >= 1 else forca[2])\n",
    "    linha2 = \"\"\n",
    "    if erros == 2:\n",
    "        linha2 = focar[3]\n",
    "    elif erros == 3:\n",
    "        linha2 = forca[4]\n",
    "    elif erros >= 4:\n",
    "        linha2 = forca[5]\n",
    "    \n",
    "    print(f\"X{linha2}\")\n",
    "    linha3 = \"\"\n",
    "    if erros == 5:\n",
    "        linha3 += forca[6]\n",
    "    elif erros >= 6:\n",
    "        linha3 += forca[7]\n",
    "    print(f\"X{linha3}\")\n",
    "    print(\"X\\n===========\")\n",
    "    if erros == 6:\n",
    "        print(\"Enforcado!\")\n",
    "        print(f\"A palavra secreta era: {palavra}\")\n",
    "        break"
   ]
  },
  {
   "cell_type": "code",
   "execution_count": null,
   "id": "7a14c3ac-d5b0-45b9-8a58-c58926397564",
   "metadata": {},
   "outputs": [],
   "source": [
    "# 7.10\n",
    "\n",
    "print(\" JOGO DA VELHA \")\n",
    "\n",
    "print(\"   |   |   \")\n",
    "print(\"---+---+---\")\n",
    "print(\"   |   |   \")\n",
    "print(\"---+---+---\")\n",
    "print(\"   |   |   \")\n",
    "\n",
    "\n",
    "while True:\n",
    "    Jogador1 = input(\"Informe qual região quer acionar (X): \")\n",
    "    Jogador2 = input(\"Informe qual região quer acionar (O): \")\n",
    "\n",
    "    if Jogador1 == 7:\n",
    "        \n"
   ]
  },
  {
   "cell_type": "code",
   "execution_count": null,
   "id": "d1cd7f15-ba14-4578-acb4-3b3bcfb6072e",
   "metadata": {},
   "outputs": [],
   "source": []
  }
 ],
 "metadata": {
  "kernelspec": {
   "display_name": "Python 3",
   "language": "python",
   "name": "python3"
  },
  "language_info": {
   "codemirror_mode": {
    "name": "ipython",
    "version": 3
   },
   "file_extension": ".py",
   "mimetype": "text/x-python",
   "name": "python",
   "nbconvert_exporter": "python",
   "pygments_lexer": "ipython3",
   "version": "3.6.13"
  }
 },
 "nbformat": 4,
 "nbformat_minor": 5
}
