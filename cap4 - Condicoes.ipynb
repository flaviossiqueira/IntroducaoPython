{
 "cells": [
  {
   "cell_type": "markdown",
   "id": "6cc0fdbc-a5f7-40c5-b1a4-31d7f53a5768",
   "metadata": {},
   "source": [
    "### Capitulo 4\n",
    "#### Condições"
   ]
  },
  {
   "cell_type": "markdown",
   "id": "835ce1aa-2fc6-461d-bc49-258f2774e75d",
   "metadata": {},
   "source": [
    "Formato:  \n",
    "    if < condição >:  \n",
    "        bloco verdadeiro"
   ]
  },
  {
   "cell_type": "code",
   "execution_count": 4,
   "id": "9dac55b6-e898-4561-9581-31c1daa1441a",
   "metadata": {},
   "outputs": [
    {
     "name": "stdin",
     "output_type": "stream",
     "text": [
      "Digite a velocidade do carro:  100\n"
     ]
    },
    {
     "name": "stdout",
     "output_type": "stream",
     "text": [
      " Multa por velocidade do carro é de R$100.00\n"
     ]
    }
   ],
   "source": [
    "# Exercicio 4.2\n",
    "\n",
    "velocidade_carro = int(input(\"Digite a velocidade do carro: \"))\n",
    "\n",
    "if (velocidade_carro > 80):\n",
    "    multa = (velocidade_carro - 80) * 5\n",
    "    print(f\" Multa por velocidade do carro é de R${multa:5.2f}\")\n",
    "else:\n",
    "    print(\"Você não tem multas a pagar\")"
   ]
  },
  {
   "cell_type": "code",
   "execution_count": 14,
   "id": "f53d8606-7fcf-4050-b108-053b49f27245",
   "metadata": {},
   "outputs": [
    {
     "name": "stdin",
     "output_type": "stream",
     "text": [
      "Valor numero 1:  5\n",
      "Valor numero 2:  4\n",
      "Valor numero 3:  3\n"
     ]
    },
    {
     "name": "stdout",
     "output_type": "stream",
     "text": [
      "O numero maior é 5\n",
      "O numero menor é 3\n"
     ]
    }
   ],
   "source": [
    "# Exercicio 4.3\n",
    "\n",
    "num1 = int(input(\"Valor numero 1: \"))\n",
    "num2 = int(input(\"Valor numero 2: \"))\n",
    "num3 = int(input(\"Valor numero 3: \"))\n",
    "\n",
    "if (num1 > num2 and num1 > num3):\n",
    "    print(f\"O numero maior é {num1}\")\n",
    "if (num2 > num1 and num2 > num3):\n",
    "    print(f\"O numero maior é {num2}\")\n",
    "if (num3 > num1 and num3 > num2):\n",
    "    print(f\"O numero maior é {num3}\")\n",
    "if(num1 < num2 and num1 < num3):\n",
    "    print(f\"O numero menor é {num1}\")\n",
    "if(num2 < num1 and num2 < num3):\n",
    "    print(f\"O numero menor é{num2}\")\n",
    "if(num3 < num1 and num3 < num2):\n",
    "    print(f\"O numero menor é {num3}\")"
   ]
  },
  {
   "cell_type": "code",
   "execution_count": 16,
   "id": "b5f8ab30-1788-4eae-bc01-ca186c6267cd",
   "metadata": {},
   "outputs": [
    {
     "name": "stdin",
     "output_type": "stream",
     "text": [
      "Digite o seu salario:  1300\n"
     ]
    },
    {
     "name": "stdout",
     "output_type": "stream",
     "text": [
      "O valor do seu novo salario é de R$1430.00\n"
     ]
    }
   ],
   "source": [
    "# Exercicio 4.4\n",
    "salario = int(input(\"Digite o seu salario: \"))\n",
    "\n",
    "if (salario > 1250):\n",
    "    base = salario\n",
    "    aumento = base + (base * 0.1)\n",
    "    print(f\"O valor do seu novo salario é de R${aumento:5.2f}\")\n",
    "if(salario <= 1250):\n",
    "    aumento = salario + (salario * 0.15)\n",
    "    print(f\"O valor do seu novo salario é de R${aumento:5.2f}\")"
   ]
  },
  {
   "cell_type": "markdown",
   "id": "e54bbe7b-bca6-40f8-af52-0196b28dcdbc",
   "metadata": {},
   "source": [
    "#### Else"
   ]
  },
  {
   "cell_type": "code",
   "execution_count": 2,
   "id": "404668a9-84f6-497a-a0da-b3ddbfa53699",
   "metadata": {},
   "outputs": [
    {
     "name": "stdin",
     "output_type": "stream",
     "text": [
      "Digite a idade de seu carro:  2\n"
     ]
    },
    {
     "name": "stdout",
     "output_type": "stream",
     "text": [
      "Seu carro é novo\n"
     ]
    }
   ],
   "source": [
    "# Exercicio 4.5\n",
    "\n",
    "idade = int(input(\"Digite a idade de seu carro: \"))\n",
    "if idade <= 3:\n",
    "    print(\"Seu carro é novo\")\n",
    "else:\n",
    "    print(\"Seu carro é velho\")"
   ]
  },
  {
   "cell_type": "code",
   "execution_count": 9,
   "id": "93653e5d-5108-435c-8a6a-e3c28f7bd44e",
   "metadata": {},
   "outputs": [
    {
     "name": "stdin",
     "output_type": "stream",
     "text": [
      "Qual o valor da distancia percorrido:  20\n"
     ]
    },
    {
     "name": "stdout",
     "output_type": "stream",
     "text": [
      "O valor da tarifa é de R$10.00\n"
     ]
    }
   ],
   "source": [
    "# Exercicio 4.6\n",
    "\n",
    "viagem = int(input(\"Qual o valor da distancia percorrido: \"))\n",
    "\n",
    "if (viagem <= 200):\n",
    "    tarifa = viagem * 0.5\n",
    "    print(f\"O valor da tarifa é de R${tarifa:5.2f}\")\n",
    "else:\n",
    "    tarifa = viagem * 0.45\n",
    "    print(f\"O valor da tarifa é de R${tarifa:5.2f}\")"
   ]
  },
  {
   "cell_type": "markdown",
   "id": "a552c512-ce80-465b-b1e0-3ea83ddd9065",
   "metadata": {},
   "source": [
    "#### Aninhamento de Ifs"
   ]
  },
  {
   "cell_type": "code",
   "execution_count": 14,
   "id": "8fc8ffaa-a2d0-4e8c-942b-459374545988",
   "metadata": {},
   "outputs": [
    {
     "name": "stdin",
     "output_type": "stream",
     "text": [
      "Digite a categoria do produto:  3\n"
     ]
    },
    {
     "name": "stdout",
     "output_type": "stream",
     "text": [
      "O preço do produto é: R$ 23.00\n"
     ]
    }
   ],
   "source": [
    "# Programa 4.6\n",
    "\n",
    "categoria = int(input(\"Digite a categoria do produto: \"))\n",
    "if categoria == 1:\n",
    "    preço = 10\n",
    "else:\n",
    "    if categoria == 2:\n",
    "        preço = 18\n",
    "    else:\n",
    "        if categoria == 3:\n",
    "            preço = 23\n",
    "        else:\n",
    "            if categoria == 4:\n",
    "                preço = 26\n",
    "            else:\n",
    "                if categoria == 5:\n",
    "                    preço = 31\n",
    "                else:\n",
    "                    print(\"Categoria invalida, digite um valoe entre 1 e 5!\")\n",
    "                    preço = 0\n",
    "print(f\"O preço do produto é: R${preço:6.2f}\")"
   ]
  },
  {
   "cell_type": "markdown",
   "id": "37970347-4dde-4510-b75f-4685bdc8d978",
   "metadata": {},
   "source": [
    "#### Elif"
   ]
  },
  {
   "cell_type": "code",
   "execution_count": 21,
   "id": "6c31aad8-d74c-46fd-afcb-007db118a811",
   "metadata": {},
   "outputs": [
    {
     "name": "stdin",
     "output_type": "stream",
     "text": [
      "Numero 1:  10\n",
      "Numero 2:  2\n",
      "Qual operação deseja realizar? \n",
      "1 - Soma; \n",
      "2 - Subtração; \n",
      "3 - Multiplicação; \n",
      "4 - Divisão. \n",
      "Escolha:  3\n"
     ]
    },
    {
     "name": "stdout",
     "output_type": "stream",
     "text": [
      "O resultado da operação 3 é: 20\n"
     ]
    }
   ],
   "source": [
    "# Exercicio 4.8\n",
    "\n",
    "num1 = int(input(\"Numero 1: \"))\n",
    "num2 = int(input(\"Numero 2: \"))\n",
    "\n",
    "operacao = int(input(\"Qual operação deseja realizar? \\n1 - Soma; \\n2 - Subtração; \\n3 - Multiplicação; \\n4 - Divisão. \\nEscolha: \"))\n",
    "\n",
    "if operacao == 1:\n",
    "    resultado = num1 + num2\n",
    "elif operacao == 2:\n",
    "    resultado = num1 - num2\n",
    "elif operacao == 3:\n",
    "    resultado = num1 * num2\n",
    "elif operacao == 4:\n",
    "    resultado = num1 / num2\n",
    "else:\n",
    "    print(\"Opção invalida!\")\n",
    "print(f\"O resultado da operação {operacao} é: {resultado}\")"
   ]
  },
  {
   "cell_type": "code",
   "execution_count": 23,
   "id": "e6e705ce-95c8-4e7b-b8a8-9bee1c6d8566",
   "metadata": {},
   "outputs": [
    {
     "name": "stdin",
     "output_type": "stream",
     "text": [
      " Qual o preço da casa:  10000\n",
      " Qual o seu salario:  5\n",
      " Qual a quantidade de anos:  2\n"
     ]
    },
    {
     "name": "stdout",
     "output_type": "stream",
     "text": [
      "Não é possivel realizar a compra\n"
     ]
    }
   ],
   "source": [
    "# Exercicio 4.9\n",
    "\n",
    "preço = float(input(\" Qual o preço da casa: \"))\n",
    "salario = float(input(\" Qual o seu salario: \"))\n",
    "anos = int(input(\" Qual a quantidade de anos: \"))\n",
    "\n",
    "mensal = preço/(12 * anos)\n",
    "limite = salario * 0.3\n",
    "\n",
    "if(mensal > limite ):\n",
    "    print(\"Não é possivel realizar a compra\")\n",
    "else:\n",
    "    print(f\"O valor mensal a pagar é de: R${mensal:6.2f} em {anos} anos\")\n"
   ]
  }
 ],
 "metadata": {
  "kernelspec": {
   "display_name": "Python 3",
   "language": "python",
   "name": "python3"
  },
  "language_info": {
   "codemirror_mode": {
    "name": "ipython",
    "version": 3
   },
   "file_extension": ".py",
   "mimetype": "text/x-python",
   "name": "python",
   "nbconvert_exporter": "python",
   "pygments_lexer": "ipython3",
   "version": "3.8.8"
  }
 },
 "nbformat": 4,
 "nbformat_minor": 5
}
